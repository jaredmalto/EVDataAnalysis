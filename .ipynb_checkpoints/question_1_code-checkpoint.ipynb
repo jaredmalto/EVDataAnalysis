{
 "cells": [
  {
   "cell_type": "code",
   "execution_count": 3,
   "id": "c5ec5127",
   "metadata": {},
   "outputs": [],
   "source": [
    "#AUTHOR: Jared Malto\n",
    "\n",
    "import pandas as pd\n",
    "from statsmodels.stats.weightstats import ztest as ztest\n",
    "#import csv as dataframe\n",
    "df = pd.read_csv(\"Battery Test Data.csv\")"
   ]
  },
  {
   "cell_type": "code",
   "execution_count": 4,
   "id": "4d346005",
   "metadata": {
    "scrolled": true
   },
   "outputs": [],
   "source": [
    "# Since we are focused on internal resistance measure 1 and 2,\n",
    "# extract the data from these 2 columns\n",
    "internal_resistance_measure_1 = df[[\"Battery ID\",\"Internal Resistance Measure 1\"]]"
   ]
  },
  {
   "cell_type": "code",
   "execution_count": 5,
   "id": "9d19f3f5",
   "metadata": {},
   "outputs": [],
   "source": [
    "# extract from IRM2 \n",
    "internal_resistance_measure_2 = df[[\"Battery ID\", \"Internal Resistance Measure 2\"]]"
   ]
  },
  {
   "cell_type": "code",
   "execution_count": 6,
   "id": "d98f1160",
   "metadata": {},
   "outputs": [],
   "source": [
    "#\n",
    "# BATTERY 1 DATA\n",
    "#\n",
    "#find every instance where battery id is 1 and so on...\n",
    "battery_1_irm1 = internal_resistance_measure_1.loc[df[\"Battery ID\"] == 1]"
   ]
  },
  {
   "cell_type": "code",
   "execution_count": 7,
   "id": "3ca063a7",
   "metadata": {},
   "outputs": [],
   "source": [
    "battery_1_irm2 = internal_resistance_measure_2.loc[df[\"Battery ID\"] == 1]"
   ]
  },
  {
   "cell_type": "code",
   "execution_count": 8,
   "id": "c68034c2",
   "metadata": {},
   "outputs": [],
   "source": [
    "#perform the z test and get the p value\n",
    "test_stat_battery1, p_value_battery1 = ztest(battery_1_irm1[\"Internal Resistance Measure 1\"],\n",
    "                                             battery_1_irm2[\"Internal Resistance Measure 2\"])"
   ]
  },
  {
   "cell_type": "code",
   "execution_count": 9,
   "id": "1d5972e5",
   "metadata": {},
   "outputs": [
    {
     "name": "stdout",
     "output_type": "stream",
     "text": [
      "1.1781572367060033e-112\n"
     ]
    }
   ],
   "source": [
    "print(p_value_battery1)"
   ]
  },
  {
   "cell_type": "code",
   "execution_count": 10,
   "id": "b7f5866d",
   "metadata": {},
   "outputs": [],
   "source": [
    "#\n",
    "# BATTERY 2 DATA\n",
    "#\n",
    "battery_2_irm1 = internal_resistance_measure_1.loc[df[\"Battery ID\"] == 2]"
   ]
  },
  {
   "cell_type": "code",
   "execution_count": 11,
   "id": "3e317e96",
   "metadata": {},
   "outputs": [],
   "source": [
    "battery_2_irm2 = internal_resistance_measure_2.loc[df[\"Battery ID\"] == 2]"
   ]
  },
  {
   "cell_type": "code",
   "execution_count": 12,
   "id": "2728b3d4",
   "metadata": {},
   "outputs": [],
   "source": [
    "test_stat_battery2, p_value_battery2 = ztest(battery_2_irm1[\"Internal Resistance Measure 1\"],\n",
    "                                             battery_2_irm2[\"Internal Resistance Measure 2\"])"
   ]
  },
  {
   "cell_type": "code",
   "execution_count": 13,
   "id": "b8d82d00",
   "metadata": {},
   "outputs": [
    {
     "name": "stdout",
     "output_type": "stream",
     "text": [
      "7.755871927203019e-157\n"
     ]
    }
   ],
   "source": [
    "print(p_value_battery2)"
   ]
  },
  {
   "cell_type": "code",
   "execution_count": 14,
   "id": "77dbd116",
   "metadata": {},
   "outputs": [],
   "source": [
    "#\n",
    "# BATTERY 3 DATA\n",
    "#\n",
    "battery_3_irm1 = internal_resistance_measure_1.loc[df[\"Battery ID\"] == 3]"
   ]
  },
  {
   "cell_type": "code",
   "execution_count": 36,
   "id": "2592ee60",
   "metadata": {},
   "outputs": [],
   "source": [
    "battery_3_irm2 = internal_resistance_measure_2.loc[df[\"Battery ID\"] == 3]"
   ]
  },
  {
   "cell_type": "code",
   "execution_count": 41,
   "id": "9d8b43c9",
   "metadata": {},
   "outputs": [],
   "source": [
    "test_stat_battery3, p_value_battery3 = ztest(battery_3_irm1[\"Internal Resistance Measure 1\"],\n",
    "                                             battery_3_irm2[\"Internal Resistance Measure 2\"])"
   ]
  },
  {
   "cell_type": "code",
   "execution_count": 42,
   "id": "d4173d48",
   "metadata": {},
   "outputs": [
    {
     "name": "stdout",
     "output_type": "stream",
     "text": [
      "0.0\n"
     ]
    }
   ],
   "source": [
    "print(p_value_battery3)"
   ]
  },
  {
   "cell_type": "code",
   "execution_count": 18,
   "id": "3816b41e",
   "metadata": {},
   "outputs": [],
   "source": [
    "#\n",
    "# BATTERY 3 DATA\n",
    "#\n",
    "battery_4_irm1 = internal_resistance_measure_1.loc[df[\"Battery ID\"] == 4]"
   ]
  },
  {
   "cell_type": "code",
   "execution_count": 19,
   "id": "ddd6ec30",
   "metadata": {},
   "outputs": [],
   "source": [
    "battery_4_irm2 = internal_resistance_measure_2.loc[df[\"Battery ID\"] == 4]"
   ]
  },
  {
   "cell_type": "code",
   "execution_count": 20,
   "id": "7bf6a66d",
   "metadata": {},
   "outputs": [],
   "source": [
    "test_stat_battery4, p_value_battery4 = ztest(battery_4_irm1[\"Internal Resistance Measure 1\"],\n",
    "                                             battery_4_irm2[\"Internal Resistance Measure 2\"])"
   ]
  },
  {
   "cell_type": "code",
   "execution_count": 21,
   "id": "d6d1d966",
   "metadata": {},
   "outputs": [
    {
     "name": "stdout",
     "output_type": "stream",
     "text": [
      "3.314432075067432e-116\n"
     ]
    }
   ],
   "source": [
    "print(p_value_battery4)"
   ]
  },
  {
   "cell_type": "code",
   "execution_count": 22,
   "id": "ae74e6c9",
   "metadata": {},
   "outputs": [],
   "source": [
    "#\n",
    "# BATTERY 5 DATA\n",
    "#\n",
    "battery_5_irm1 = internal_resistance_measure_1.loc[df[\"Battery ID\"] == 5]"
   ]
  },
  {
   "cell_type": "code",
   "execution_count": 23,
   "id": "1cb0a94e",
   "metadata": {},
   "outputs": [],
   "source": [
    "battery_5_irm2 = internal_resistance_measure_2.loc[df[\"Battery ID\"] == 5]"
   ]
  },
  {
   "cell_type": "code",
   "execution_count": 24,
   "id": "658f03b9",
   "metadata": {},
   "outputs": [],
   "source": [
    "test_stat_battery5, p_value_battery5 = ztest(battery_5_irm1[\"Internal Resistance Measure 1\"],\n",
    "                                             battery_5_irm2[\"Internal Resistance Measure 2\"])"
   ]
  },
  {
   "cell_type": "code",
   "execution_count": 25,
   "id": "945a9af7",
   "metadata": {},
   "outputs": [
    {
     "name": "stdout",
     "output_type": "stream",
     "text": [
      "7.819149138490991e-269\n"
     ]
    }
   ],
   "source": [
    "print(p_value_battery5)"
   ]
  },
  {
   "cell_type": "code",
   "execution_count": 26,
   "id": "5ea0512d",
   "metadata": {},
   "outputs": [],
   "source": [
    "#\n",
    "# BATTERY 6 DATA\n",
    "#\n",
    "battery_6_irm1 = internal_resistance_measure_1.loc[df[\"Battery ID\"] == 6]"
   ]
  },
  {
   "cell_type": "code",
   "execution_count": 27,
   "id": "6d316c79",
   "metadata": {},
   "outputs": [],
   "source": [
    "battery_6_irm2 = internal_resistance_measure_2.loc[df[\"Battery ID\"] == 6]"
   ]
  },
  {
   "cell_type": "code",
   "execution_count": 28,
   "id": "90aee3b7",
   "metadata": {},
   "outputs": [],
   "source": [
    "test_stat_battery6, p_value_battery6 = ztest(battery_6_irm1[\"Internal Resistance Measure 1\"],\n",
    "                                             battery_6_irm2[\"Internal Resistance Measure 2\"])"
   ]
  },
  {
   "cell_type": "code",
   "execution_count": 29,
   "id": "ad92addc",
   "metadata": {},
   "outputs": [
    {
     "name": "stdout",
     "output_type": "stream",
     "text": [
      "4.507962695590614e-96\n"
     ]
    }
   ],
   "source": [
    "print(p_value_battery6)"
   ]
  }
 ],
 "metadata": {
  "kernelspec": {
   "display_name": "Python 3 (ipykernel)",
   "language": "python",
   "name": "python3"
  },
  "language_info": {
   "codemirror_mode": {
    "name": "ipython",
    "version": 3
   },
   "file_extension": ".py",
   "mimetype": "text/x-python",
   "name": "python",
   "nbconvert_exporter": "python",
   "pygments_lexer": "ipython3",
   "version": "3.10.1"
  }
 },
 "nbformat": 4,
 "nbformat_minor": 5
}
